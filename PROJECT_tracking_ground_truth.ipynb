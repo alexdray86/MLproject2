{
 "cells": [
  {
   "cell_type": "code",
   "execution_count": 1,
   "metadata": {},
   "outputs": [],
   "source": [
    "import numpy as np\n",
    "import cv2"
   ]
  },
  {
   "cell_type": "code",
   "execution_count": 3,
   "metadata": {},
   "outputs": [],
   "source": [
    "_, segmtrue = cv2.imreadmulti(\"data/training_fullmovie_segmentation_cellpose_v2_FORM.tif\", [], cv2.IMREAD_ANYDEPTH)"
   ]
  },
  {
   "cell_type": "code",
   "execution_count": 4,
   "metadata": {},
   "outputs": [
    {
     "name": "stdout",
     "output_type": "stream",
     "text": [
      "(125, 512, 512)\n"
     ]
    }
   ],
   "source": [
    "def reindex_cell_labels(img):\n",
    "    idx = np.unique(img)\n",
    "    img_c = img.copy()\n",
    "    for i, x in enumerate(idx):\n",
    "        img_c[img_c == x] = i\n",
    "    return (img_c.astype('uint16'))\n",
    "\n",
    "\n",
    "# Recover ground truth into a single array\n",
    "true_segs_test = np.zeros((125,512,512))\n",
    "for f in range(125):\n",
    "    true_segs_test[f,:,:] = reindex_cell_labels(segmtrue[f])"
   ]
  },
  {
   "cell_type": "markdown",
   "metadata": {},
   "source": [
    "Tracing function"
   ]
  },
  {
   "cell_type": "code",
   "execution_count": 3,
   "metadata": {},
   "outputs": [],
   "source": [
    "def tracking(labels):\n",
    "    # input: labeling of the groundtruth of the cell segmentation \n",
    "    # output: tracking that needs to be corrected with napari in order to obtain the groundtruth of the tracing\n",
    "    track = labels.copy()\n",
    "    N_time = labels.shape[0]\n",
    "    image1 = track[0,:,:]\n",
    "    indices = np.unique(image1)\n",
    "\n",
    "    for t in range(N_time -1):\n",
    "        image1 = track[t,:,:].copy()\n",
    "        image2 = track[t+1,:,:].copy()\n",
    "        indices2 = np.unique(image2)\n",
    "        \n",
    "        for i, ind2 in enumerate(indices2) :\n",
    "\n",
    "            if (ind2 != 0):\n",
    "\n",
    "                # cach_cell2 represents the position of cell2 at time t+1\n",
    "                cach_cell2 = image2.copy()\n",
    "                cach_cell2[cach_cell2!=ind2] = 0\n",
    "                cach_cell2[cach_cell2 == ind2] = 1\n",
    "\n",
    "                # find what is at time t at the position of cell2 at time t+1    \n",
    "                superposition = cach_cell2 * image1\n",
    "                indicessup = np.unique(superposition)\n",
    "\n",
    "                if (indicessup.shape[0] > 1):\n",
    "                    superposition = superposition.reshape(1, -1)\n",
    "                    # find the lineage that superposes the most with cell2\n",
    "                    indsup = np.bincount(superposition[0][superposition[0]!=0]).argmax()\n",
    "                    track[t+1][(cach_cell2 *track[t+1]) == ind2] = indsup\n",
    "                else:\n",
    "                    indices = np.append(indices, ind2)\n",
    "    return track"
   ]
  },
  {
   "cell_type": "code",
   "execution_count": 23,
   "metadata": {},
   "outputs": [
    {
     "name": "stderr",
     "output_type": "stream",
     "text": [
      "WARNING: QWindowsWindow::setGeometry: Unable to set geometry 1614x1214+0+34 (frame: 1636x1270-11-11) on QWidgetWindow/\"_QtMainWindowClassWindow\" on \"\\\\.\\DISPLAY1\". Resulting geometry: 1614x1098+0+34 (frame: 1636x1154-11-11) margins: 11, 45, 11, 11 minimum size: 608x549 MINMAXINFO maxSize=0,0 maxpos=0,0 mintrack=1238,1154 maxtrack=0,0)\n"
     ]
    },
    {
     "data": {
      "text/plain": [
       "<Labels layer 'test' at 0x1ec5af67d60>"
      ]
     },
     "execution_count": 23,
     "metadata": {},
     "output_type": "execute_result"
    },
    {
     "name": "stderr",
     "output_type": "stream",
     "text": [
      "WARNING: QWindowsWindow::setGeometry: Unable to set geometry 1920x1214+0+34 (frame: 1942x1270-11-11) on QWidgetWindow/\"_QtMainWindowClassWindow\" on \"\\\\.\\DISPLAY1\". Resulting geometry: 1920x974+0+34 (frame: 1942x1030-11-11) margins: 11, 45, 11, 11 minimum size: 608x607 MINMAXINFO maxSize=0,0 maxpos=0,0 mintrack=1238,1270 maxtrack=0,0)\n",
      "WARNING: QWindowsWindow::setGeometry: Unable to set geometry 1920x1214+0+34 (frame: 1942x1270-11-11) on QWidgetWindow/\"_QtMainWindowClassWindow\" on \"\\\\.\\DISPLAY1\". Resulting geometry: 1920x974+0+34 (frame: 1942x1030-11-11) margins: 11, 45, 11, 11 minimum size: 786x607 MINMAXINFO maxSize=0,0 maxpos=0,0 mintrack=1594,1270 maxtrack=0,0)\n",
      "WARNING: QWindowsWindow::setGeometry: Unable to set geometry 1920x1214+0+34 (frame: 1942x1270-11-11) on QWidgetWindow/\"_QtMainWindowClassWindow\" on \"\\\\.\\DISPLAY1\". Resulting geometry: 1920x974+0+34 (frame: 1942x1030-11-11) margins: 11, 45, 11, 11 minimum size: 786x607 MINMAXINFO maxSize=0,0 maxpos=0,0 mintrack=1594,1270 maxtrack=0,0)\n",
      "WARNING: QWindowsWindow::setGeometry: Unable to set geometry 1920x1214+0+34 (frame: 1942x1270-11-11) on QWidgetWindow/\"_QtMainWindowClassWindow\" on \"\\\\.\\DISPLAY1\". Resulting geometry: 1920x974+0+34 (frame: 1942x1030-11-11) margins: 11, 45, 11, 11 minimum size: 786x607 MINMAXINFO maxSize=0,0 maxpos=0,0 mintrack=1594,1270 maxtrack=0,0)\n",
      "WARNING: QWindowsWindow::setGeometry: Unable to set geometry 1920x1214+0+34 (frame: 1942x1270-11-11) on QWidgetWindow/\"_QtMainWindowClassWindow\" on \"\\\\.\\DISPLAY1\". Resulting geometry: 1920x974+0+34 (frame: 1942x1030-11-11) margins: 11, 45, 11, 11 minimum size: 786x607 MINMAXINFO maxSize=0,0 maxpos=0,0 mintrack=1594,1270 maxtrack=0,0)\n",
      "WARNING: QWindowsWindow::setGeometry: Unable to set geometry 1920x1214+0+34 (frame: 1942x1270-11-11) on QWidgetWindow/\"_QtMainWindowClassWindow\" on \"\\\\.\\DISPLAY1\". Resulting geometry: 1920x974+0+34 (frame: 1942x1030-11-11) margins: 11, 45, 11, 11 minimum size: 786x607 MINMAXINFO maxSize=0,0 maxpos=0,0 mintrack=1594,1270 maxtrack=0,0)\n",
      "WARNING: QWindowsWindow::setGeometry: Unable to set geometry 1920x1214+0+34 (frame: 1942x1270-11-11) on QWidgetWindow/\"_QtMainWindowClassWindow\" on \"\\\\.\\DISPLAY1\". Resulting geometry: 1920x974+0+34 (frame: 1942x1030-11-11) margins: 11, 45, 11, 11 minimum size: 786x607 MINMAXINFO maxSize=0,0 maxpos=0,0 mintrack=1594,1270 maxtrack=0,0)\n",
      "WARNING: QWindowsWindow::setGeometry: Unable to set geometry 1920x1214+0+34 (frame: 1942x1270-11-11) on QWidgetWindow/\"_QtMainWindowClassWindow\" on \"\\\\.\\DISPLAY1\". Resulting geometry: 1920x974+0+34 (frame: 1942x1030-11-11) margins: 11, 45, 11, 11 minimum size: 786x607 MINMAXINFO maxSize=0,0 maxpos=0,0 mintrack=1594,1270 maxtrack=0,0)\n",
      "WARNING: QWindowsWindow::setGeometry: Unable to set geometry 1920x1214+0+34 (frame: 1942x1270-11-11) on QWidgetWindow/\"_QtMainWindowClassWindow\" on \"\\\\.\\DISPLAY1\". Resulting geometry: 1920x974+0+34 (frame: 1942x1030-11-11) margins: 11, 45, 11, 11 minimum size: 786x607 MINMAXINFO maxSize=0,0 maxpos=0,0 mintrack=1594,1270 maxtrack=0,0)\n",
      "WARNING: QWindowsWindow::setGeometry: Unable to set geometry 1920x1214+0+34 (frame: 1942x1270-11-11) on QWidgetWindow/\"_QtMainWindowClassWindow\" on \"\\\\.\\DISPLAY1\". Resulting geometry: 1920x974+0+34 (frame: 1942x1030-11-11) margins: 11, 45, 11, 11 minimum size: 786x607 MINMAXINFO maxSize=0,0 maxpos=0,0 mintrack=1594,1270 maxtrack=0,0)\n",
      "WARNING: QWindowsWindow::setGeometry: Unable to set geometry 1920x1214+0+34 (frame: 1942x1270-11-11) on QWidgetWindow/\"_QtMainWindowClassWindow\" on \"\\\\.\\DISPLAY1\". Resulting geometry: 1920x974+0+34 (frame: 1942x1030-11-11) margins: 11, 45, 11, 11 minimum size: 786x607 MINMAXINFO maxSize=0,0 maxpos=0,0 mintrack=1594,1270 maxtrack=0,0)\n",
      "WARNING: QWindowsWindow::setGeometry: Unable to set geometry 1920x1214+0+34 (frame: 1942x1270-11-11) on QWidgetWindow/\"_QtMainWindowClassWindow\" on \"\\\\.\\DISPLAY1\". Resulting geometry: 1920x974+0+34 (frame: 1942x1030-11-11) margins: 11, 45, 11, 11 minimum size: 786x607 MINMAXINFO maxSize=0,0 maxpos=0,0 mintrack=1594,1270 maxtrack=0,0)\n",
      "WARNING: QWindowsWindow::setGeometry: Unable to set geometry 1920x1214+0+34 (frame: 1942x1270-11-11) on QWidgetWindow/\"_QtMainWindowClassWindow\" on \"\\\\.\\DISPLAY1\". Resulting geometry: 1920x974+0+34 (frame: 1942x1030-11-11) margins: 11, 45, 11, 11 minimum size: 786x607 MINMAXINFO maxSize=0,0 maxpos=0,0 mintrack=1594,1270 maxtrack=0,0)\n"
     ]
    }
   ],
   "source": [
    "track = tracking(true_segs_test)"
   ]
  }
 ],
 "metadata": {
  "interpreter": {
   "hash": "0d9aa61a2a8799473610c923f2f670527a97741b56271999415b34cbfaac5f12"
  },
  "kernelspec": {
   "display_name": "Python 3",
   "language": "python",
   "name": "python3"
  },
  "language_info": {
   "codemirror_mode": {
    "name": "ipython",
    "version": 3
   },
   "file_extension": ".py",
   "mimetype": "text/x-python",
   "name": "python",
   "nbconvert_exporter": "python",
   "pygments_lexer": "ipython3",
   "version": "3.8.12"
  }
 },
 "nbformat": 4,
 "nbformat_minor": 2
}
