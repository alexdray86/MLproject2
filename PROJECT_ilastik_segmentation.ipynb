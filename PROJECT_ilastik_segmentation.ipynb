{
 "cells": [
  {
   "cell_type": "markdown",
   "metadata": {},
   "source": [
    "## Load Ilastik segmentations of the train and test sets, process the image sequences and export binary image sequences"
   ]
  },
  {
   "cell_type": "code",
   "execution_count": 2,
   "metadata": {
    "id": "2D7T9bq7jvmp"
   },
   "outputs": [],
   "source": [
    "import matplotlib.pyplot as plt\n",
    "import numpy as np\n",
    "from sklearn import preprocessing\n",
    "import cv2\n",
    "import skimage.io as io\n",
    "import skimage.morphology as morph\n",
    "from PIL import Image as im\n",
    "from PIL import ImageFilter\n",
    "from imageio import mimwrite"
   ]
  },
  {
   "cell_type": "markdown",
   "metadata": {
    "id": "Q-Go2rCOUZyE"
   },
   "source": [
    "Load the datas"
   ]
  },
  {
   "cell_type": "code",
   "execution_count": 60,
   "metadata": {
    "colab": {
     "base_uri": "https://localhost:8080/"
    },
    "id": "QOituL-zUqMd",
    "outputId": "0375631f-eb1d-4756-ba90-d5d4406c20cc"
   },
   "outputs": [
    {
     "name": "stdout",
     "output_type": "stream",
     "text": [
      "125\n"
     ]
    }
   ],
   "source": [
    "tiff_file_seg_test='data/seg_nonbinary_test.tiff'\n",
    "tiff_file_seg_train='data/seg_nonbinary_train.tiff'\n",
    "_, frame_data_test = cv2.imreadmulti(tiff_file_seg_test, [], cv2.IMREAD_ANYDEPTH)\n",
    "_, frame_data_train = cv2.imreadmulti(tiff_file_seg_train, [], cv2.IMREAD_ANYDEPTH)\n",
    "N=len(frame_data_test)"
   ]
  },
  {
   "cell_type": "markdown",
   "metadata": {
    "id": "K9_C2RgVVCMD"
   },
   "source": [
    "Apply smoothing on the images"
   ]
  },
  {
   "cell_type": "code",
   "execution_count": 61,
   "metadata": {
    "id": "z94ZWyFTidMZ"
   },
   "outputs": [],
   "source": [
    "video_train=np.zeros((N,512,512))\n",
    "video_test=np.zeros((N,512,512))\n",
    "\n",
    "for i in range(N):\n",
    "    frame_number = i\n",
    "    I_median=cv2.medianBlur(frame_data_train[frame_number],3) #smooth with the median Blur \n",
    "    video_train[frame_number,:,:]=I_median\n",
    "\n",
    "    I_median_test=cv2.medianBlur(frame_data_test[frame_number],1) \n",
    "    video_test[frame_number,:,:]=I_median_test"
   ]
  },
  {
   "cell_type": "markdown",
   "metadata": {
    "id": "4acyUTNKVSzh"
   },
   "source": [
    "Make the images binary: "
   ]
  },
  {
   "cell_type": "code",
   "execution_count": 62,
   "metadata": {
    "id": "gaMRlSHmbKDH"
   },
   "outputs": [],
   "source": [
    "video_bin_train=np.zeros((N,512,512)) #binary video of the top left corner (train set)\n",
    "video_bin_test=np.zeros((N,512,512))  #binary video of the test set\n",
    "\n",
    "for i in range(N):\n",
    "    #train\n",
    "    frame_number = i\n",
    "    I = video_train[frame_number]\n",
    "    I_filt = I.copy()\n",
    "    I_filt_bin=I.copy()\n",
    "    I_filt_bin[I_filt==254]=0 #binary image\n",
    "    I_filt_bin[I_filt!=254]=1\n",
    "    \n",
    "    video_bin_train[frame_number,:,:]=I_filt_bin\n",
    "\n",
    "    #test:\n",
    "    I_test = video_test[frame_number]\n",
    "    I_filt_test = I_test.copy()\n",
    "    I_filt_bin_test=I_test.copy()\n",
    "    I_filt_bin_test[I_filt_test==254]=0 #binary image\n",
    "    I_filt_bin_test[I_filt_test!=254]=1\n",
    "\n",
    "    video_bin_test[frame_number,:,:]=I_filt_bin_test\n",
    "\n",
    "#save the videos:   \n",
    "mimwrite('data/ilastik_train.tiff', video_bin_train)\n",
    "mimwrite('data/ilastik_test.tiff', video_bin_test)"
   ]
  }
 ],
 "metadata": {
  "accelerator": "GPU",
  "colab": {
   "collapsed_sections": [
    "cIUi0g-Jf-aT"
   ],
   "name": "PROJECT_Segmentation.ipynb",
   "provenance": []
  },
  "kernelspec": {
   "display_name": "Python 3",
   "language": "python",
   "name": "python3"
  },
  "language_info": {
   "name": "python"
  }
 },
 "nbformat": 4,
 "nbformat_minor": 1
}
